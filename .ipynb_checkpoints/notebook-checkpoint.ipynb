{
 "cells": [
  {
   "cell_type": "code",
   "execution_count": null,
   "id": "32442557",
   "metadata": {},
   "outputs": [
    {
     "name": "stdout",
     "output_type": "stream",
     "text": [
      "The autoreload extension is already loaded. To reload it, use:\n",
      "  %reload_ext autoreload\n"
     ]
    },
    {
     "data": {
      "application/vnd.jupyter.widget-view+json": {
       "model_id": "a22cfa9cc98a48e3b956a95b2bcc4719",
       "version_major": 2,
       "version_minor": 0
      },
      "text/plain": [
       "FigureWidget({\n",
       "    'data': [],\n",
       "    'layout': {'scene': {'aspectmode': 'cube',\n",
       "                         'xaxis': {'title': {'text': 'X'}},\n",
       "                         'yaxis': {'title': {'text': 'Y'}},\n",
       "                         'zaxis': {'title': {'text': 'Z'}}},\n",
       "               'template': '...',\n",
       "               'title': {'text': 'Interceptor vs Target Trajectories'}}\n",
       "})"
      ]
     },
     "metadata": {},
     "output_type": "display_data"
    },
    {
     "name": "stdout",
     "output_type": "stream",
     "text": [
      "Simulation expired\n"
     ]
    }
   ],
   "source": [
    "%load_ext autoreload\n",
    "%autoreload 2\n",
    "\n",
    "from gym.environment import MissileEnv, MissileEnvSettings\n",
    "from agents.proportional_nav import ProportionalNavigationAgent\n",
    "from models.missile import MissileModel\n",
    "import models.physics as physics\n",
    "import numpy as np\n",
    "\n",
    "from visualization.matplot_viz import MatplotVisualizer, GifSettings\n",
    "from visualization.plotly_viz import PlotlyVisualizer\n",
    "from IPython.display import display\n",
    "\n",
    "settings = MissileEnvSettings()\n",
    "settings.time_step = 0.1  # Time step for the simulation\n",
    "settings.realtime = False\n",
    "\n",
    "target = MissileModel(velocity=np.array([physics.mach_to_ms(3), 0.0,  0.0]), max_acc=100 * 9.81, pos=np.array([0.0, -30_000.0, 60_000.0]))\n",
    "interceptor = MissileModel(velocity=np.array([0.0, 0.0, physics.mach_to_ms(5.0)]), max_acc=100 * 9.81, pos=np.array([0.0, 0.0, 100.0]))\n",
    "\n",
    "env = MissileEnv(settings=settings, target=target, interceptor=interceptor)\n",
    "agent = ProportionalNavigationAgent(speed=interceptor.speed, n=3.0)\n",
    "\n",
    "done = False\n",
    "obs = env.reset()\n",
    "\n",
    "viz = PlotlyVisualizer()\n",
    "viz.set_episode_data(env.current_episode)\n",
    "viz.render(env.sim_time)\n",
    "\n",
    "display(viz.fig)\n",
    "\n",
    "while not done:\n",
    "    action = agent.step(obs, settings.time_step)  # Get the acceleration command from the agent\n",
    "    obs, reward, done, _, _ = env.step(action)  # Take a step in the environment\n",
    "    viz.render(env.sim_time)  # Render the environment\n",
    "\n",
    "episode = env.current_episode\n",
    "\n",
    "gif_settings = GifSettings(\n",
    "    fps=10,\n",
    "    speed=10.0,\n",
    ")\n",
    "\n",
    "env.close()"
   ]
  },
  {
   "cell_type": "markdown",
   "id": "022bfdaa",
   "metadata": {},
   "source": [
    "# Missile Interceptor Reinforcement Learning"
   ]
  },
  {
   "cell_type": "markdown",
   "id": "99e29646",
   "metadata": {},
   "source": [
    "## Proportional Guidance"
   ]
  }
 ],
 "metadata": {
  "kernelspec": {
   "display_name": "missile-intercept-rl",
   "language": "python",
   "name": "python3"
  },
  "language_info": {
   "codemirror_mode": {
    "name": "ipython",
    "version": 3
   },
   "file_extension": ".py",
   "mimetype": "text/x-python",
   "name": "python",
   "nbconvert_exporter": "python",
   "pygments_lexer": "ipython3",
   "version": "3.10.16"
  }
 },
 "nbformat": 4,
 "nbformat_minor": 5
}
