{
 "cells": [
  {
   "cell_type": "code",
   "execution_count": null,
   "id": "32442557",
   "metadata": {},
   "outputs": [],
   "source": [
    "%load_ext autoreload\n",
    "%autoreload 2\n",
    "\n",
    "from gym.environment import MissileEnv, MissileEnvSettings\n",
    "from agents.proportional_nav import ProportionalNavigationAgent\n",
    "from models.missile import MissileModel\n",
    "import models.physics as physics\n",
    "import numpy as np\n",
    "import time\n",
    "\n",
    "from visualization.matplot_viz import MatplotVisualizer\n",
    "from visualization.plotly_viz import PlotlyVisualizer\n",
    "\n",
    "\n",
    "settings = MissileEnvSettings()\n",
    "settings.time_step = 0.1  # Time step for the simulation\n",
    "settings.realtime = False\n",
    "\n",
    "target = MissileModel(velocity=np.array([physics.mach_to_ms(3), 0.0,  0.0]), max_acc=100 * 9.81, pos=np.array([0.0, -10_000.0, 20_000.0]))\n",
    "interceptor = MissileModel(velocity=np.array([0.0, 0.0, physics.mach_to_ms(4.0)]), max_acc=100 * 9.81, pos=np.array([0.0, 0.0, 100.0]))\n",
    "\n",
    "init_distance = np.linalg.norm(interceptor.pos - target.pos)  # Initial distance between interceptor and target\n",
    "\n",
    "env = MissileEnv(settings=settings, target=target, interceptor=interceptor)\n",
    "agent = ProportionalNavigationAgent(max_acc=100*9.81, init_distance=init_distance, n=5.0)\n",
    "\n",
    "done = False\n",
    "obs = env.reset()\n",
    "\n",
    "viz = MatplotVisualizer()\n",
    "viz.set_episode_data(env.current_episode)\n",
    "viz.render(env.sim_time)\n",
    "\n",
    "last_time = time.time()\n",
    "max_render_fps = 10.0\n",
    "\n",
    "while not done:\n",
    "    action = agent.step(obs, settings.time_step)  # Get the acceleration command from the agent\n",
    "    obs, reward, done, _, _ = env.step(action)  # Take a step in the environment\n",
    "\n",
    "print (\"Done\")\n",
    "# viz.playback(env.sim_time, speed=5.0)\n",
    "viz.render(env.sim_time)\n",
    "viz.save_playback(\"output.gif\", env.sim_time, 5.0, 5)\n",
    "env.close()"
   ]
  },
  {
   "cell_type": "markdown",
   "id": "022bfdaa",
   "metadata": {},
   "source": [
    "# Missile Interceptor Reinforcement Learning"
   ]
  },
  {
   "cell_type": "markdown",
   "id": "99e29646",
   "metadata": {},
   "source": [
    "## Proportional Guidance"
   ]
  }
 ],
 "metadata": {
  "kernelspec": {
   "display_name": "missile-intercept-rl",
   "language": "python",
   "name": "python3"
  },
  "language_info": {
   "codemirror_mode": {
    "name": "ipython",
    "version": 3
   },
   "file_extension": ".py",
   "mimetype": "text/x-python",
   "name": "python",
   "nbconvert_exporter": "python",
   "pygments_lexer": "ipython3",
   "version": "3.10.16"
  }
 },
 "nbformat": 4,
 "nbformat_minor": 5
}
