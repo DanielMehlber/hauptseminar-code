{
 "cells": [
  {
   "cell_type": "code",
   "execution_count": null,
   "id": "32442557",
   "metadata": {},
   "outputs": [
    {
     "name": "stdout",
     "output_type": "stream",
     "text": [
      "The autoreload extension is already loaded. To reload it, use:\n",
      "  %reload_ext autoreload\n",
      "Simulation expired\n"
     ]
    },
    {
     "data": {
      "application/vnd.jupyter.widget-view+json": {
       "model_id": "faa493b7859f4b03b96f0c9ab4f7e3f3",
       "version_major": 2,
       "version_minor": 0
      },
      "text/plain": [
       "FigureWidget({\n",
       "    'data': [{'line': {'color': 'red', 'width': 2},\n",
       "              'mode': 'lines',\n",
       "              'name': 'Target',\n",
       "              'type': 'scatter3d',\n",
       "              'uid': 'ef3ee317-c1a4-4fbe-9e84-bc3821d5e1fd',\n",
       "              'x': [102.96],\n",
       "              'y': [-10000.0],\n",
       "              'z': [20000.0]},\n",
       "             {'marker': {'color': 'red', 'size': 6},\n",
       "              'mode': 'markers',\n",
       "              'name': 'Target Current Position',\n",
       "              'type': 'scatter3d',\n",
       "              'uid': '7f553403-43e7-4981-94be-09d81838323f',\n",
       "              'x': [102.96],\n",
       "              'y': [-10000.0],\n",
       "              'z': [20000.0]},\n",
       "             {'line': {'color': 'blue', 'width': 2},\n",
       "              'marker': {'size': 4},\n",
       "              'mode': 'lines',\n",
       "              'name': 'Interceptor Agent',\n",
       "              'type': 'scatter3d',\n",
       "              'uid': '1c30699e-96e8-49c8-a687-6b9239c203f4',\n",
       "              'x': [0.0],\n",
       "              'y': [0.0],\n",
       "              'z': [237.28]},\n",
       "             {'marker': {'color': 'blue', 'size': 6},\n",
       "              'mode': 'markers',\n",
       "              'name': 'Interceptor Agent Current Position',\n",
       "              'type': 'scatter3d',\n",
       "              'uid': 'cb899313-c2ec-4ae3-b4ed-f18c061f11f5',\n",
       "              'x': [0.0],\n",
       "              'y': [0.0],\n",
       "              'z': [237.28]}],\n",
       "    'layout': {'scene': {'aspectmode': 'cube',\n",
       "                         'xaxis': {'range': [-11806.152000000002, 11909.112000000001], 'title': {'text': 'X'}},\n",
       "                         'yaxis': {'range': [-16857.632, 6857.6320000000005], 'title': {'text': 'Y'}},\n",
       "                         'zaxis': {'range': [-1976.2720000000002, 21738.992000000002], 'title': {'text': 'Z'}}},\n",
       "               'template': '...',\n",
       "               'title': {'text': 'Episode Visualization at Time: 0.00s'}}\n",
       "})"
      ]
     },
     "metadata": {},
     "output_type": "display_data"
    }
   ],
   "source": [
    "%load_ext autoreload\n",
    "%autoreload 2\n",
    "\n",
    "from gym.environment import MissileEnv, MissileEnvSettings\n",
    "from agents.proportional_nav import ProportionalNavigationAgent\n",
    "from models.missile import MissileModel\n",
    "import models.physics as physics\n",
    "import numpy as np\n",
    "import time\n",
    "\n",
    "from visualization.matplot_viz import MatplotVisualizer, GifSettings\n",
    "from visualization.plotly_viz import PlotlyVisualizer\n",
    "\n",
    "\n",
    "settings = MissileEnvSettings()\n",
    "settings.time_step = 0.1  # Time step for the simulation\n",
    "settings.realtime = False\n",
    "\n",
    "target = MissileModel(velocity=np.array([physics.mach_to_ms(3), 0.0,  0.0]), max_acc=100 * 9.81, pos=np.array([0.0, -10_000.0, 20_000.0]))\n",
    "interceptor = MissileModel(velocity=np.array([0.0, 0.0, physics.mach_to_ms(4.0)]), max_acc=100 * 9.81, pos=np.array([0.0, 0.0, 100.0]))\n",
    "\n",
    "init_distance = np.linalg.norm(interceptor.pos - target.pos)  # Initial distance between interceptor and target\n",
    "\n",
    "env = MissileEnv(settings=settings, target=target, interceptor=interceptor)\n",
    "agent = ProportionalNavigationAgent(max_acc=100*9.81, init_distance=init_distance, n=5.0)\n",
    "\n",
    "done = False\n",
    "obs = env.reset()\n",
    "\n",
    "viz = PlotlyVisualizer()\n",
    "viz.set_episode_data(env.current_episode)\n",
    "# viz.render(env.sim_time)\n",
    "\n",
    "last_time = time.time()\n",
    "max_render_fps = 10.0\n",
    "\n",
    "while not done:\n",
    "    action = agent.step(obs, settings.time_step)  # Get the acceleration command from the agent\n",
    "    obs, reward, done, _, _ = env.step(action)  # Take a step in the environment\n",
    "\n",
    "    now = time.time()\n",
    "    elapsed = now - last_time\n",
    "    if elapsed >= 1.0 / max_render_fps:\n",
    "        # viz.render(env.sim_time)  # Render the environment\n",
    "        last_time = now\n",
    "\n",
    "viz.playback(env.sim_time, speed=10.0, fps=20.0)  # Playback the simulation\n",
    "\n",
    "env.close()"
   ]
  },
  {
   "cell_type": "markdown",
   "id": "022bfdaa",
   "metadata": {},
   "source": [
    "# Missile Interceptor Reinforcement Learning"
   ]
  },
  {
   "cell_type": "markdown",
   "id": "99e29646",
   "metadata": {},
   "source": [
    "## Proportional Guidance"
   ]
  }
 ],
 "metadata": {
  "kernelspec": {
   "display_name": "Python 3 (ipykernel)",
   "language": "python",
   "name": "python3"
  },
  "language_info": {
   "codemirror_mode": {
    "name": "ipython",
    "version": 3
   },
   "file_extension": ".py",
   "mimetype": "text/x-python",
   "name": "python",
   "nbconvert_exporter": "python",
   "pygments_lexer": "ipython3",
   "version": "3.10.16"
  }
 },
 "nbformat": 4,
 "nbformat_minor": 5
}
